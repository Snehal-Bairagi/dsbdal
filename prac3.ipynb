{
 "cells": [
  {
   "cell_type": "code",
   "execution_count": 1,
   "id": "76fcceff",
   "metadata": {},
   "outputs": [],
   "source": [
    "import pandas as pd\n",
    "import numpy as np"
   ]
  },
  {
   "cell_type": "code",
   "execution_count": 2,
   "id": "2bcc0a33",
   "metadata": {},
   "outputs": [
    {
     "name": "stdout",
     "output_type": "stream",
     "text": [
      "     sepal_length  sepal_width  petal_length  petal_width    species\n",
      "0             5.1          3.5           1.4          0.2     setosa\n",
      "1             4.9          3.0           1.4          0.2     setosa\n",
      "2             4.7          3.2           1.3          0.2     setosa\n",
      "3             4.6          3.1           1.5          0.2     setosa\n",
      "4             5.0          3.6           1.4          0.2     setosa\n",
      "..            ...          ...           ...          ...        ...\n",
      "145           6.7          3.0           5.2          2.3  virginica\n",
      "146           6.3          2.5           5.0          1.9  virginica\n",
      "147           6.5          3.0           5.2          2.0  virginica\n",
      "148           6.2          3.4           5.4          2.3  virginica\n",
      "149           5.9          3.0           5.1          1.8  virginica\n",
      "\n",
      "[150 rows x 5 columns]\n"
     ]
    }
   ],
   "source": [
    "df=pd.read_csv('iris.csv')\n",
    "print(df)"
   ]
  },
  {
   "cell_type": "code",
   "execution_count": 3,
   "id": "5c548361",
   "metadata": {},
   "outputs": [
    {
     "name": "stdout",
     "output_type": "stream",
     "text": [
      "           sepal_length                            sepal_width              \\\n",
      "                   mean median  max  min       std        mean median  max   \n",
      "species                                                                      \n",
      "setosa            5.006    5.0  5.8  4.3  0.352490       3.418    3.4  4.4   \n",
      "versicolor        5.936    5.9  7.0  4.9  0.516171       2.770    2.8  3.4   \n",
      "virginica         6.588    6.5  7.9  4.9  0.635880       2.974    3.0  3.8   \n",
      "\n",
      "                          petal_length                            petal_width  \\\n",
      "            min       std         mean median  max  min       std        mean   \n",
      "species                                                                         \n",
      "setosa      2.3  0.381024        1.464   1.50  1.9  1.0  0.173511       0.244   \n",
      "versicolor  2.0  0.313798        4.260   4.35  5.1  3.0  0.469911       1.326   \n",
      "virginica   2.2  0.322497        5.552   5.55  6.9  4.5  0.551895       2.026   \n",
      "\n",
      "                                       \n",
      "           median  min  max       std  \n",
      "species                                \n",
      "setosa        0.2  0.1  0.6  0.107210  \n",
      "versicolor    1.3  1.0  1.8  0.197753  \n",
      "virginica     2.0  1.4  2.5  0.274650  \n"
     ]
    }
   ],
   "source": [
    "group_stats=df.groupby('species').agg({\n",
    "    'sepal_length':['mean','median','max','min','std'],\n",
    "    'sepal_width':['mean','median','max','min','std'],\n",
    "    'petal_length':['mean','median','max','min','std'],\n",
    "    'petal_width': ['mean', 'median', 'min', 'max', 'std']\n",
    "})\n",
    "\n",
    "print(group_stats)"
   ]
  },
  {
   "cell_type": "code",
   "execution_count": 4,
   "id": "cf7635c6",
   "metadata": {},
   "outputs": [
    {
     "name": "stdout",
     "output_type": "stream",
     "text": [
      "Setosa Sepal Lengths: [5.1, 4.9, 4.7, 4.6, 5.0, 5.4, 4.6, 5.0, 4.4, 4.9, 5.4, 4.8, 4.8, 4.3, 5.8, 5.7, 5.4, 5.1, 5.7, 5.1, 5.4, 5.1, 4.6, 5.1, 4.8, 5.0, 5.0, 5.2, 5.2, 4.7, 4.8, 5.4, 5.2, 5.5, 4.9, 5.0, 5.5, 4.9, 4.4, 5.1, 5.0, 4.5, 4.4, 5.0, 5.1, 4.8, 5.1, 4.6, 5.3, 5.0]\n",
      "Versicolor Sepal Lengths: [7.0, 6.4, 6.9, 5.5, 6.5, 5.7, 6.3, 4.9, 6.6, 5.2, 5.0, 5.9, 6.0, 6.1, 5.6, 6.7, 5.6, 5.8, 6.2, 5.6, 5.9, 6.1, 6.3, 6.1, 6.4, 6.6, 6.8, 6.7, 6.0, 5.7, 5.5, 5.5, 5.8, 6.0, 5.4, 6.0, 6.7, 6.3, 5.6, 5.5, 5.5, 6.1, 5.8, 5.0, 5.6, 5.7, 5.7, 6.2, 5.1, 5.7]\n",
      "Virginica Sepal Lengths: [6.3, 5.8, 7.1, 6.3, 6.5, 7.6, 4.9, 7.3, 6.7, 7.2, 6.5, 6.4, 6.8, 5.7, 5.8, 6.4, 6.5, 7.7, 7.7, 6.0, 6.9, 5.6, 7.7, 6.3, 6.7, 7.2, 6.2, 6.1, 6.4, 7.2, 7.4, 7.9, 6.4, 6.3, 6.1, 7.7, 6.3, 6.4, 6.0, 6.9, 6.7, 6.9, 5.8, 6.8, 6.7, 6.7, 6.3, 6.5, 6.2, 5.9]\n"
     ]
    }
   ],
   "source": [
    "setosa_sepal_length=df[df['species']=='setosa']['sepal_length'].tolist()\n",
    "versicolor_sepal_length=df[df['species']=='versicolor']['sepal_length'].tolist()\n",
    "virginica_sepal_length=df[df['species']=='virginica']['sepal_length'].tolist()\n",
    "\n",
    "print(\"Setosa Sepal Lengths:\", setosa_sepal_length)\n",
    "print(\"Versicolor Sepal Lengths:\", versicolor_sepal_length)\n",
    "print(\"Virginica Sepal Lengths:\", virginica_sepal_length)"
   ]
  },
  {
   "cell_type": "code",
   "execution_count": 5,
   "id": "e498174a",
   "metadata": {},
   "outputs": [],
   "source": [
    "setosa=df[df['species']=='setosa']\n",
    "versicolor=df[df['species']=='versicolor']\n",
    "virginica=df[df['species']=='virginica']\n",
    "\n"
   ]
  },
  {
   "cell_type": "code",
   "execution_count": 6,
   "id": "64d05fbf",
   "metadata": {},
   "outputs": [
    {
     "name": "stdout",
     "output_type": "stream",
     "text": [
      "       sepal_length  sepal_width  petal_length  petal_width\n",
      "count      50.00000    50.000000     50.000000     50.00000\n",
      "mean        5.00600     3.418000      1.464000      0.24400\n",
      "std         0.35249     0.381024      0.173511      0.10721\n",
      "min         4.30000     2.300000      1.000000      0.10000\n",
      "25%         4.80000     3.125000      1.400000      0.20000\n",
      "50%         5.00000     3.400000      1.500000      0.20000\n",
      "75%         5.20000     3.675000      1.575000      0.30000\n",
      "max         5.80000     4.400000      1.900000      0.60000\n",
      "       sepal_length  sepal_width  petal_length  petal_width\n",
      "count     50.000000    50.000000     50.000000    50.000000\n",
      "mean       5.936000     2.770000      4.260000     1.326000\n",
      "std        0.516171     0.313798      0.469911     0.197753\n",
      "min        4.900000     2.000000      3.000000     1.000000\n",
      "25%        5.600000     2.525000      4.000000     1.200000\n",
      "50%        5.900000     2.800000      4.350000     1.300000\n",
      "75%        6.300000     3.000000      4.600000     1.500000\n",
      "max        7.000000     3.400000      5.100000     1.800000\n",
      "       sepal_length  sepal_width  petal_length  petal_width\n",
      "count      50.00000    50.000000     50.000000     50.00000\n",
      "mean        6.58800     2.974000      5.552000      2.02600\n",
      "std         0.63588     0.322497      0.551895      0.27465\n",
      "min         4.90000     2.200000      4.500000      1.40000\n",
      "25%         6.22500     2.800000      5.100000      1.80000\n",
      "50%         6.50000     3.000000      5.550000      2.00000\n",
      "75%         6.90000     3.175000      5.875000      2.30000\n",
      "max         7.90000     3.800000      6.900000      2.50000\n"
     ]
    }
   ],
   "source": [
    "print(setosa.describe(percentiles=[.25,.50,.75]))\n",
    "print(versicolor.describe(percentiles=[.25,.50,.75]))\n",
    "print(virginica.describe(percentiles=[.25,.50,.75]))"
   ]
  }
 ],
 "metadata": {
  "kernelspec": {
   "display_name": "Python 3",
   "language": "python",
   "name": "python3"
  },
  "language_info": {
   "codemirror_mode": {
    "name": "ipython",
    "version": 3
   },
   "file_extension": ".py",
   "mimetype": "text/x-python",
   "name": "python",
   "nbconvert_exporter": "python",
   "pygments_lexer": "ipython3",
   "version": "3.11.1"
  }
 },
 "nbformat": 4,
 "nbformat_minor": 5
}
